{
 "cells": [
  {
   "cell_type": "code",
   "execution_count": 43,
   "metadata": {},
   "outputs": [],
   "source": [
    "f=open(\"./newfile.txt\",'w')\n",
    "f.write(\"hi\\n\")\n",
    "f.write(\"hangul doesn't use\\n\")\n",
    "f.close()\n"
   ]
  },
  {
   "cell_type": "code",
   "execution_count": 46,
   "metadata": {},
   "outputs": [],
   "source": [
    "with open(\"./newfile.txt\",'a') as f:\n",
    "    for _i in range(1,11):\n",
    "        f.write(\"{}times running\\n\".format(_i))"
   ]
  },
  {
   "cell_type": "code",
   "execution_count": 48,
   "metadata": {},
   "outputs": [
    {
     "name": "stdout",
     "output_type": "stream",
     "text": [
      "['hi\\n', \"hangul doesn't use\\n\", '1times running2times running3times running4times running5times running6times running7times running8times running9times running10times running1times running\\n', '2times running\\n', '3times running\\n', '4times running\\n', '5times running\\n', '6times running\\n', '7times running\\n', '8times running\\n', '9times running\\n', '10times running\\n']\n"
     ]
    }
   ],
   "source": [
    "with open(\"./newfile.txt\",'r') as f:\n",
    "    while True:\n",
    "        texts = f.readlines()\n",
    "        print(texts)\n",
    "        if not text:\n",
    "            break"
   ]
  },
  {
   "cell_type": "code",
   "execution_count": 71,
   "metadata": {},
   "outputs": [
    {
     "name": "stdout",
     "output_type": "stream",
     "text": [
      "Input the first number!24\n",
      "Input the second number!7\n",
      "24      7    struck\n",
      "12      14    struck\n",
      "6      28    struck\n",
      "3      56    keep\n",
      "1      112    keep\n",
      "--------------------------\n",
      "\n",
      "The result is 168\n"
     ]
    }
   ],
   "source": [
    "first_data=int(input(\"Input the first number!\"))\n",
    "second_data=int(input(\"Input the second number!\"))\n",
    "result=0\n",
    "    \n",
    "while True:\n",
    "    if first_data<1:\n",
    "        break\n",
    "    else:\n",
    "        if first_data%2==0:\n",
    "            print(\"{}      {}    struck\".format(first_data,second_data))\n",
    "            first_data=first_data//2\n",
    "            second_data=second_data*2\n",
    "            \n",
    "        else:\n",
    "            print(\"{}      {}    keep\".format(first_data,second_data))\n",
    "            result+=second_data\n",
    "            first_data =first_data//2\n",
    "            second_data =second_data*2\n",
    "intprint(\"--------------------------\\n\")\n",
    "print(\"The result is {}\".format(result))"
   ]
  },
  {
   "cell_type": "code",
   "execution_count": 78,
   "metadata": {},
   "outputs": [
    {
     "name": "stdout",
     "output_type": "stream",
     "text": [
      "Enter the two umbers!\t24 7\n",
      "24\t7    struck\n",
      "12\t14    struck\n",
      "6\t28    struck\n",
      "3\t56    keep\n",
      "1\t112    keep\n",
      "--------------------------\n",
      "\n",
      "The result is 168\n"
     ]
    }
   ],
   "source": [
    "data1,data2 = input(\"Enter the two umbers!\\t\").split()\n",
    "result=0\n",
    "first_data=int(data1)\n",
    "second_data=int(data2)\n",
    "while True:\n",
    "    if first_data<1:\n",
    "        break\n",
    "    else:\n",
    "        if first_data%2==0:\n",
    "            print(\"{}\\t{}    struck\".format(first_data,second_data))\n",
    "            first_data=first_data//2\n",
    "            second_data=second_data*2\n",
    "            \n",
    "        else:\n",
    "            print(\"{}\\t{}    keep\".format(first_data,second_data))\n",
    "            result+=second_data\n",
    "            first_data =first_data//2\n",
    "            second_data =second_data*2\n",
    "print(\"--------------------------\\n\")\n",
    "print(\"The result is {}\".format(result))"
   ]
  },
  {
   "cell_type": "code",
   "execution_count": null,
   "metadata": {},
   "outputs": [],
   "source": []
  }
 ],
 "metadata": {
  "kernelspec": {
   "display_name": "Python 3",
   "language": "python",
   "name": "python3"
  },
  "language_info": {
   "codemirror_mode": {
    "name": "ipython",
    "version": 3
   },
   "file_extension": ".py",
   "mimetype": "text/x-python",
   "name": "python",
   "nbconvert_exporter": "python",
   "pygments_lexer": "ipython3",
   "version": "3.7.0"
  }
 },
 "nbformat": 4,
 "nbformat_minor": 2
}
