{
 "cells": [
  {
   "cell_type": "code",
   "execution_count": 13,
   "metadata": {},
   "outputs": [
    {
     "name": "stdout",
     "output_type": "stream",
     "text": [
      "입력 난수 값= 100\n",
      "Buzz\n"
     ]
    }
   ],
   "source": [
    "import random\n",
    "random_num =random.randint(1,100+1)\n",
    "print(\"입력 난수 값=\",random_num)\n",
    "\n",
    "if(random_num %3 ==0 | random_num % 5==0):\n",
    "    print(\"fizzbuzz\")\n",
    "elif( random_num % 3 == 0):\n",
    "    print(\"Fizz\")\n",
    "    \n",
    "elif(random_num % 5 == 0):\n",
    "    print(\"Buzz\")\n",
    "else:\n",
    "    print(int(random_num));    \n",
    "\n",
    "    \n",
    "\n",
    "    "
   ]
  },
  {
   "cell_type": "code",
   "execution_count": null,
   "metadata": {},
   "outputs": [],
   "source": [
    "##숙제\n",
    "1부터 100까지 정수에 대해서\n",
    "3의 배수라면 \"fizz\"\n",
    "5의 배수라면 \"buzz\"\n",
    "15의 배수라면 \"fizzbuzz\"\n",
    "나머지 모든 수는 그냥 그 수를 출력하는\n",
    "코드 블록을 생성하시오."
   ]
  },
  {
   "cell_type": "code",
   "execution_count": null,
   "metadata": {},
   "outputs": [],
   "source": []
  }
 ],
 "metadata": {
  "kernelspec": {
   "display_name": "Python 3",
   "language": "python",
   "name": "python3"
  },
  "language_info": {
   "codemirror_mode": {
    "name": "ipython",
    "version": 3
   },
   "file_extension": ".py",
   "mimetype": "text/x-python",
   "name": "python",
   "nbconvert_exporter": "python",
   "pygments_lexer": "ipython3",
   "version": "3.7.0"
  }
 },
 "nbformat": 4,
 "nbformat_minor": 2
}
