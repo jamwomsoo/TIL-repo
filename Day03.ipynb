{
 "cells": [
  {
   "cell_type": "code",
   "execution_count": 5,
   "metadata": {},
   "outputs": [
    {
     "name": "stdout",
     "output_type": "stream",
     "text": [
      "1\n",
      "2\n",
      "Fizz\n",
      "4\n",
      "Buzz\n",
      "Fizz\n",
      "7\n",
      "8\n",
      "Fizz\n",
      "Buzz\n",
      "11\n",
      "Fizz\n",
      "13\n",
      "14\n",
      "FizzBuzz\n",
      "16\n",
      "17\n",
      "Fizz\n",
      "19\n",
      "Buzz\n",
      "Fizz\n",
      "22\n",
      "23\n",
      "Fizz\n",
      "Buzz\n",
      "26\n",
      "Fizz\n",
      "28\n",
      "29\n",
      "FizzBuzz\n",
      "31\n",
      "32\n",
      "Fizz\n",
      "34\n",
      "Buzz\n",
      "Fizz\n",
      "37\n",
      "38\n",
      "Fizz\n",
      "Buzz\n",
      "41\n",
      "Fizz\n",
      "43\n",
      "44\n",
      "FizzBuzz\n",
      "46\n",
      "47\n",
      "Fizz\n",
      "49\n",
      "Buzz\n",
      "Fizz\n",
      "52\n",
      "53\n",
      "Fizz\n",
      "Buzz\n",
      "56\n",
      "Fizz\n",
      "58\n",
      "59\n",
      "FizzBuzz\n",
      "61\n",
      "62\n",
      "Fizz\n",
      "64\n",
      "Buzz\n",
      "Fizz\n",
      "67\n",
      "68\n",
      "Fizz\n",
      "Buzz\n",
      "71\n",
      "Fizz\n",
      "73\n",
      "74\n",
      "FizzBuzz\n",
      "76\n",
      "77\n",
      "Fizz\n",
      "79\n",
      "Buzz\n",
      "Fizz\n",
      "82\n",
      "83\n",
      "Fizz\n",
      "Buzz\n",
      "86\n",
      "Fizz\n",
      "88\n",
      "89\n",
      "FizzBuzz\n",
      "91\n",
      "92\n",
      "Fizz\n",
      "94\n",
      "Buzz\n",
      "Fizz\n",
      "97\n",
      "98\n",
      "Fizz\n",
      "Buzz\n"
     ]
    }
   ],
   "source": [
    "#FizzBuzz \n",
    "for _i in range(1,100+1):\n",
    "    if _i%15 == 0:\n",
    "        print(\"FizzBuzz\")\n",
    "    elif _i%5 ==0:\n",
    "        print(\"Buzz\")\n",
    "    elif _i%3 ==0:\n",
    "        print(\"Fizz\")\n",
    "    else:\n",
    "        print(_i)\n"
   ]
  },
  {
   "cell_type": "code",
   "execution_count": 1,
   "metadata": {},
   "outputs": [
    {
     "name": "stdout",
     "output_type": "stream",
     "text": [
      "0\n",
      "1\n",
      "2\n",
      "3\n",
      "4\n",
      "5\n",
      "6\n",
      "7\n",
      "8\n",
      "9\n",
      "10\n"
     ]
    }
   ],
   "source": [
    "i=0\n",
    "while i<11:\n",
    "    print(i)\n",
    "    i=i+1\n"
   ]
  },
  {
   "cell_type": "code",
   "execution_count": 12,
   "metadata": {},
   "outputs": [
    {
     "name": "stdout",
     "output_type": "stream",
     "text": [
      "What your name?Kim\n",
      "hi, Kim\n",
      "What your name?fool\n",
      "hi, fool\n"
     ]
    }
   ],
   "source": [
    "name =\"\"\n",
    "while name !=\"fool\":\n",
    "    name = input(\"What your name?\")\n",
    "    print(\"hi, {}\".format(name))"
   ]
  },
  {
   "cell_type": "code",
   "execution_count": 4,
   "metadata": {},
   "outputs": [
    {
     "name": "stdout",
     "output_type": "stream",
     "text": [
      "95\n",
      "Type some number: 50\n",
      "Too Low\n",
      "4 times left\n",
      "Type some number: 95\n",
      "Correct!\n",
      "You did it in 2 time(s)\n"
     ]
    }
   ],
   "source": [
    "import random\n",
    "\n",
    "answer= random.randint(1,100)\n",
    "print(answer)\n",
    "\n",
    "trial = 5\n",
    "while trial>=1:\n",
    "    guess= int(input(\"Type some number: \"))\n",
    "    \n",
    "    if guess ==answer:\n",
    "        print(\"Correct!\")\n",
    "        break\n",
    "    else:\n",
    "        if guess>answer:\n",
    "            print(\"Too High\")\n",
    "        else :\n",
    "            print(\"Too Low\")\n",
    "        trial-=1\n",
    "        print(\"{} times left\".format(trial))\n",
    "        \n",
    "if trial == 0:\n",
    "    print(\"Game Over.Continue?\")\n",
    "else:\n",
    "    print(\"You did it in {} time(s)\".format(6-trial))"
   ]
  },
  {
   "cell_type": "markdown",
   "metadata": {},
   "source": [
    "# Monty Hall"
   ]
  },
  {
   "cell_type": "code",
   "execution_count": 18,
   "metadata": {
    "scrolled": true
   },
   "outputs": [
    {
     "name": "stdout",
     "output_type": "stream",
     "text": [
      "stay: 33412(33.412%)\n",
      "switch: 66588(66.58800000000001%)\n"
     ]
    }
   ],
   "source": [
    "import random\n",
    "\n",
    "\n",
    "stay =0\n",
    "switch = 0\n",
    "trial =100000\n",
    "for _i in range(1,trial+1):\n",
    "    doors =[1,0,0]\n",
    "    random.shuffle(doors)\n",
    "    \n",
    "    choice =random.randrange(3)# 0,1,2\n",
    "    guest = doors[choice]\n",
    "    \n",
    "    if guest ==1:\n",
    "        stay+=1\n",
    "    else:\n",
    "        switch+=1\n",
    "        \n",
    "print(\"stay: {}({}%)\".format(stay,stay/trial*100))\n",
    "print(\"switch: {}({}%)\".format(switch,switch/trial*100))"
   ]
  },
  {
   "cell_type": "markdown",
   "metadata": {},
   "source": [
    "# function"
   ]
  },
  {
   "cell_type": "code",
   "execution_count": 23,
   "metadata": {},
   "outputs": [],
   "source": [
    "def fastcampus(num):\n",
    "    _result = num+3\n",
    "    return _result"
   ]
  },
  {
   "cell_type": "code",
   "execution_count": 24,
   "metadata": {},
   "outputs": [
    {
     "data": {
      "text/plain": [
       "6"
      ]
     },
     "execution_count": 24,
     "metadata": {},
     "output_type": "execute_result"
    }
   ],
   "source": [
    "fastcampus(3)"
   ]
  },
  {
   "cell_type": "code",
   "execution_count": 25,
   "metadata": {},
   "outputs": [
    {
     "name": "stdout",
     "output_type": "stream",
     "text": [
      "hi\n"
     ]
    }
   ],
   "source": [
    "print(\"hi\")"
   ]
  },
  {
   "cell_type": "code",
   "execution_count": 30,
   "metadata": {},
   "outputs": [],
   "source": [
    "def print_(text):\n",
    "    _result=\"fast \" +text+ \" campus\"\n",
    "    return _result"
   ]
  },
  {
   "cell_type": "code",
   "execution_count": 31,
   "metadata": {},
   "outputs": [
    {
     "data": {
      "text/plain": [
       "'fast rapid campus'"
      ]
     },
     "execution_count": 31,
     "metadata": {},
     "output_type": "execute_result"
    }
   ],
   "source": [
    "print_(\"rapid\")"
   ]
  },
  {
   "cell_type": "code",
   "execution_count": 32,
   "metadata": {},
   "outputs": [],
   "source": [
    "def no_input():\n",
    "    return \"Hi\""
   ]
  },
  {
   "cell_type": "code",
   "execution_count": 33,
   "metadata": {},
   "outputs": [
    {
     "data": {
      "text/plain": [
       "'Hi'"
      ]
     },
     "execution_count": 33,
     "metadata": {},
     "output_type": "execute_result"
    }
   ],
   "source": [
    "no_input()"
   ]
  },
  {
   "cell_type": "code",
   "execution_count": 37,
   "metadata": {},
   "outputs": [],
   "source": [
    "def no_output(text):\n",
    "    print(text+\" with no output\")"
   ]
  },
  {
   "cell_type": "code",
   "execution_count": 38,
   "metadata": {},
   "outputs": [
    {
     "name": "stdout",
     "output_type": "stream",
     "text": [
      "some text with no output\n"
     ]
    }
   ],
   "source": [
    "no_output(\"some text\")"
   ]
  },
  {
   "cell_type": "code",
   "execution_count": 39,
   "metadata": {},
   "outputs": [],
   "source": [
    "output =no_input()"
   ]
  },
  {
   "cell_type": "code",
   "execution_count": 40,
   "metadata": {},
   "outputs": [
    {
     "data": {
      "text/plain": [
       "'Hi'"
      ]
     },
     "execution_count": 40,
     "metadata": {},
     "output_type": "execute_result"
    }
   ],
   "source": [
    "output"
   ]
  },
  {
   "cell_type": "code",
   "execution_count": 42,
   "metadata": {},
   "outputs": [
    {
     "name": "stdout",
     "output_type": "stream",
     "text": [
      "some text with no output\n"
     ]
    }
   ],
   "source": [
    "outputs = no_output(\"some text\")"
   ]
  },
  {
   "cell_type": "code",
   "execution_count": 44,
   "metadata": {},
   "outputs": [],
   "source": [
    "outputs"
   ]
  },
  {
   "cell_type": "code",
   "execution_count": 46,
   "metadata": {},
   "outputs": [],
   "source": [
    "def no_io():\n",
    "    print(\"This function has no and outout.\")\n",
    "    "
   ]
  },
  {
   "cell_type": "code",
   "execution_count": 47,
   "metadata": {},
   "outputs": [
    {
     "name": "stdout",
     "output_type": "stream",
     "text": [
      "This function has no and outout.\n"
     ]
    }
   ],
   "source": [
    "no_io()"
   ]
  },
  {
   "cell_type": "code",
   "execution_count": 49,
   "metadata": {},
   "outputs": [],
   "source": [
    "def multiple_return(a):\n",
    "    b=a+10\n",
    "    return a,b"
   ]
  },
  {
   "cell_type": "code",
   "execution_count": 50,
   "metadata": {},
   "outputs": [
    {
     "data": {
      "text/plain": [
       "(7, 17)"
      ]
     },
     "execution_count": 50,
     "metadata": {},
     "output_type": "execute_result"
    }
   ],
   "source": [
    "multiple_return(7)"
   ]
  },
  {
   "cell_type": "code",
   "execution_count": 52,
   "metadata": {},
   "outputs": [],
   "source": [
    "def decider(a):\n",
    "    if a ==10:\n",
    "        print(\"This was not I want.\")\n",
    "        return\n",
    "    b=a+3\n",
    "    return b"
   ]
  },
  {
   "cell_type": "code",
   "execution_count": 53,
   "metadata": {},
   "outputs": [
    {
     "name": "stdout",
     "output_type": "stream",
     "text": [
      "This was not I want.\n"
     ]
    }
   ],
   "source": [
    "decider(10)"
   ]
  },
  {
   "cell_type": "code",
   "execution_count": 54,
   "metadata": {},
   "outputs": [
    {
     "data": {
      "text/plain": [
       "15"
      ]
     },
     "execution_count": 54,
     "metadata": {},
     "output_type": "execute_result"
    }
   ],
   "source": [
    "decider(12)"
   ]
  },
  {
   "cell_type": "code",
   "execution_count": 71,
   "metadata": {},
   "outputs": [],
   "source": [
    "def calculator(cal,data1,data2):\n",
    "    #paraml : 연산자(\"+\",\"-\")\n",
    "    #param2,3 : 숫자\n",
    "    pass #틀을 잡아놓고 살을 붙일때 사용됨\n",
    "    if type(data2)==str or type(data1) ==str:\n",
    "        print(\"Only number is need!\")\n",
    "        return False\n",
    "    if cal==\"+\":\n",
    "        _backdata = data1+data2\n",
    "        return backdata\n",
    "    elif cal==\"-\":\n",
    "        if data1>data2:\n",
    "            _backdata = data1 -data2\n",
    "        else :\n",
    "            _backdata =data2 -data1\n",
    "        return _backdata    \n",
    "    else:\n",
    "        print(\"Wrong Input\")\n",
    "    pass #틀을 잡아놓고 살을 붙일때 사용됨\n"
   ]
  },
  {
   "cell_type": "code",
   "execution_count": 74,
   "metadata": {},
   "outputs": [
    {
     "data": {
      "text/plain": [
       "5"
      ]
     },
     "execution_count": 74,
     "metadata": {},
     "output_type": "execute_result"
    }
   ],
   "source": [
    "calculator(\"+\",2,3)"
   ]
  },
  {
   "cell_type": "code",
   "execution_count": 75,
   "metadata": {},
   "outputs": [
    {
     "data": {
      "text/plain": [
       "1"
      ]
     },
     "execution_count": 75,
     "metadata": {},
     "output_type": "execute_result"
    }
   ],
   "source": [
    "calculator(\"-\",2,3)"
   ]
  },
  {
   "cell_type": "code",
   "execution_count": 106,
   "metadata": {},
   "outputs": [],
   "source": [
    "def is_leap(year=2000):\n",
    "    # 4년에 한번 윤년\n",
    "    #100으로 나누어 떨어지면 평년\n",
    "    #400으로 나누어 지면 윤년\n",
    "    #나머지는 평년\n",
    "    #if문을 많이 쓸때\n",
    "    #if year %4 ==0:\n",
    "        #if year%100==0:\n",
    "            #if year%400 ==0:\n",
    "                #result = \"leap year\"\n",
    "            #else:    \n",
    "                #result = \"p.ain year\"\n",
    "        #else:\n",
    "            #result = \"leap year\"\n",
    "    #else:\n",
    "        #resilt =\"plain year\"\n",
    "    #return result\n",
    "    if year%4==0 and (year%100!=0 or year%400==0):\n",
    "        _result = \"윤년\"\n",
    "    else :\n",
    "        _result =\"평년\"\n",
    "    return _result,year\n",
    "    pass"
   ]
  },
  {
   "cell_type": "code",
   "execution_count": 108,
   "metadata": {},
   "outputs": [
    {
     "data": {
      "text/plain": [
       "('윤년', 2000)"
      ]
     },
     "execution_count": 108,
     "metadata": {},
     "output_type": "execute_result"
    }
   ],
   "source": [
    "is_leap()\n"
   ]
  },
  {
   "cell_type": "code",
   "execution_count": 112,
   "metadata": {},
   "outputs": [],
   "source": [
    "def call_me(name=\"Fool\",Fool=True):\n",
    "    print(\"hi,{}\".format(name))\n",
    "    if Fool ==True:\n",
    "        print(\"but,you are Fool.\")\n",
    "    else:\n",
    "        print(\"oh,you are not Fool\")"
   ]
  },
  {
   "cell_type": "code",
   "execution_count": 114,
   "metadata": {},
   "outputs": [
    {
     "name": "stdout",
     "output_type": "stream",
     "text": [
      "hi,fastcampus\n",
      "oh,you are not Fool\n"
     ]
    }
   ],
   "source": [
    "call_me(\"fastcampus\",False)"
   ]
  },
  {
   "cell_type": "code",
   "execution_count": 117,
   "metadata": {},
   "outputs": [],
   "source": [
    "def mul_sum(*args):#여러개의 값을 받을수있음\n",
    "    _result = 0\n",
    "    for _i in args:\n",
    "        print(_i)\n",
    "        _result +=_i\n",
    "    return _result"
   ]
  },
  {
   "cell_type": "code",
   "execution_count": 118,
   "metadata": {},
   "outputs": [
    {
     "name": "stdout",
     "output_type": "stream",
     "text": [
      "1\n",
      "2\n",
      "3\n",
      "4\n",
      "5\n"
     ]
    },
    {
     "data": {
      "text/plain": [
       "15"
      ]
     },
     "execution_count": 118,
     "metadata": {},
     "output_type": "execute_result"
    }
   ],
   "source": [
    "mul_sum(1,2,3,4,5)"
   ]
  },
  {
   "cell_type": "code",
   "execution_count": 121,
   "metadata": {},
   "outputs": [],
   "source": [
    "def show_kwargs(**cats):\n",
    "    print(cats)"
   ]
  },
  {
   "cell_type": "code",
   "execution_count": 122,
   "metadata": {},
   "outputs": [
    {
     "name": "stdout",
     "output_type": "stream",
     "text": [
      "{'a': 19, 'b': 'fastcampus'}\n"
     ]
    }
   ],
   "source": [
    "show_kwargs(a=19,b=\"fastcampus\")"
   ]
  },
  {
   "cell_type": "code",
   "execution_count": 123,
   "metadata": {},
   "outputs": [
    {
     "ename": "NameError",
     "evalue": "name 'sign_up' is not defined",
     "output_type": "error",
     "traceback": [
      "\u001b[1;31m---------------------------------------------------------------------------\u001b[0m",
      "\u001b[1;31mNameError\u001b[0m                                 Traceback (most recent call last)",
      "\u001b[1;32m<ipython-input-123-5af96a2e909c>\u001b[0m in \u001b[0;36m<module>\u001b[1;34m()\u001b[0m\n\u001b[1;32m----> 1\u001b[1;33m \u001b[0msign_up\u001b[0m\u001b[1;33m(\u001b[0m\u001b[0m김패캠\u001b[0m\u001b[1;33m,\u001b[0m\u001b[1;36m4\u001b[0m\u001b[1;33m,\u001b[0m\u001b[0mseoul\u001b[0m\u001b[1;33m)\u001b[0m\u001b[1;31m#랜덤순서로 나옴\u001b[0m\u001b[1;33m\u001b[0m\u001b[0m\n\u001b[0m\u001b[0;32m      2\u001b[0m \u001b[0msign_up\u001b[0m\u001b[1;33m(\u001b[0m\u001b[0mage\u001b[0m\u001b[1;33m=\u001b[0m\u001b[1;34m'4'\u001b[0m\u001b[1;33m,\u001b[0m\u001b[0mname\u001b[0m\u001b[1;33m=\u001b[0m\u001b[1;34m'김패캠'\u001b[0m\u001b[1;33m,\u001b[0m\u001b[0madd\u001b[0m\u001b[1;33m=\u001b[0m\u001b[1;34m'seoul'\u001b[0m\u001b[1;33m)\u001b[0m\u001b[1;31m#저장한 순서로나옴\u001b[0m\u001b[1;33m\u001b[0m\u001b[0m\n",
      "\u001b[1;31mNameError\u001b[0m: name 'sign_up' is not defined"
     ]
    }
   ],
   "source": [
    "sign_up(김패캠,4,seoul)#랜덤순서로 나옴\n",
    "sign_up(age='4',name='김패캠',add='seoul')#저장한 순서로나옴"
   ]
  },
  {
   "cell_type": "code",
   "execution_count": 139,
   "metadata": {},
   "outputs": [],
   "source": [
    "#https://search.naver.com/search.naver?query=아우디\n",
    "def url_maker(domain,**kwargs):\n",
    "    url = \"https://search.\" + domain +\".com/search.\"+domain +\"?\"\n",
    "    for key in kwargs.keys():\n",
    "        if key ==\"fastcampus\":\n",
    "            continue\n",
    "        else:    \n",
    "            url =url + key+\"=\"+kwargs[key]+\"&\"\n",
    "    return url\n",
    "    "
   ]
  },
  {
   "cell_type": "code",
   "execution_count": 141,
   "metadata": {},
   "outputs": [
    {
     "data": {
      "text/plain": [
       "'https://search.google.com/search.google?query=아우디&utm_source=naver&ie=utf_8&'"
      ]
     },
     "execution_count": 141,
     "metadata": {},
     "output_type": "execute_result"
    }
   ],
   "source": [
    "url_maker(\"google\",query=\"아우디\",utm_source=\"naver\",ie =\"utf_8\")"
   ]
  },
  {
   "cell_type": "code",
   "execution_count": 152,
   "metadata": {},
   "outputs": [],
   "source": [
    "def show_num(x):\n",
    "    _result =x+1\n",
    "    return x+1"
   ]
  },
  {
   "cell_type": "code",
   "execution_count": 159,
   "metadata": {},
   "outputs": [],
   "source": [
    "x = show_num(20)"
   ]
  },
  {
   "cell_type": "code",
   "execution_count": 164,
   "metadata": {},
   "outputs": [
    {
     "data": {
      "text/plain": [
       "21"
      ]
     },
     "execution_count": 164,
     "metadata": {},
     "output_type": "execute_result"
    }
   ],
   "source": [
    "x\n"
   ]
  },
  {
   "cell_type": "code",
   "execution_count": 168,
   "metadata": {},
   "outputs": [],
   "source": [
    "def glob_test():\n",
    "    global x#글로벌 쓰는거 별로 않좋음\n",
    "    x=x+1\n",
    "    return x"
   ]
  },
  {
   "cell_type": "code",
   "execution_count": 169,
   "metadata": {},
   "outputs": [
    {
     "data": {
      "text/plain": [
       "22"
      ]
     },
     "execution_count": 169,
     "metadata": {},
     "output_type": "execute_result"
    }
   ],
   "source": [
    "glob_test()"
   ]
  },
  {
   "cell_type": "code",
   "execution_count": 170,
   "metadata": {},
   "outputs": [
    {
     "data": {
      "text/plain": [
       "22"
      ]
     },
     "execution_count": 170,
     "metadata": {},
     "output_type": "execute_result"
    }
   ],
   "source": [
    "x"
   ]
  },
  {
   "cell_type": "code",
   "execution_count": 172,
   "metadata": {},
   "outputs": [],
   "source": [
    "veriablea =1\n",
    "\n",
    "\n",
    "def sumsum(a):\n",
    "    a=a+1\n",
    "    return a\n"
   ]
  },
  {
   "cell_type": "code",
   "execution_count": 173,
   "metadata": {},
   "outputs": [],
   "source": [
    "veriablea=sumsum(veriablea)"
   ]
  },
  {
   "cell_type": "code",
   "execution_count": 174,
   "metadata": {},
   "outputs": [
    {
     "data": {
      "text/plain": [
       "2"
      ]
     },
     "execution_count": 174,
     "metadata": {},
     "output_type": "execute_result"
    }
   ],
   "source": [
    "veriablea"
   ]
  },
  {
   "cell_type": "code",
   "execution_count": 180,
   "metadata": {
    "scrolled": true
   },
   "outputs": [
    {
     "name": "stdout",
     "output_type": "stream",
     "text": [
      "How many times? 5\n",
      "Fusion! (4 times left)\n",
      "Fusion! (3 times left)\n",
      "Fusion! (2 times left)\n",
      "Fusion! (1 times left)\n",
      "Fusion! (0 times left)\n",
      "Recurse Complete!\n"
     ]
    },
    {
     "data": {
      "text/plain": [
       "False"
      ]
     },
     "execution_count": 180,
     "metadata": {},
     "output_type": "execute_result"
    }
   ],
   "source": [
    "#Recursive\n",
    "\n",
    "times = int(input(\"How many times? \"))\n",
    "def curse_beast(time):\n",
    "    if time < 1:\n",
    "        print(\"Recurse Complete!\")\n",
    "        return False\n",
    "    else:\n",
    "        print(\"Fusion! ({} times left)\".format(time-1))\n",
    "        return curse_beast(time-1)\n",
    "curse_beast(times)"
   ]
  },
  {
   "cell_type": "code",
   "execution_count": 181,
   "metadata": {},
   "outputs": [],
   "source": [
    "old_list = [1,2,3,4,5]\n",
    "\n",
    "double_list=[]\n",
    "for i in old_list:\n",
    "    double_list.append(i*2)"
   ]
  },
  {
   "cell_type": "code",
   "execution_count": 182,
   "metadata": {
    "scrolled": true
   },
   "outputs": [
    {
     "data": {
      "text/plain": [
       "[2, 4, 6, 8, 10]"
      ]
     },
     "execution_count": 182,
     "metadata": {},
     "output_type": "execute_result"
    }
   ],
   "source": [
    "double_list"
   ]
  },
  {
   "cell_type": "code",
   "execution_count": 183,
   "metadata": {},
   "outputs": [],
   "source": [
    "double_list=[i*2 for i in old_list]\n"
   ]
  },
  {
   "cell_type": "code",
   "execution_count": 185,
   "metadata": {},
   "outputs": [
    {
     "data": {
      "text/plain": [
       "[2, 4, 6, 8, 10]"
      ]
     },
     "execution_count": 185,
     "metadata": {},
     "output_type": "execute_result"
    }
   ],
   "source": [
    "double_list"
   ]
  },
  {
   "cell_type": "code",
   "execution_count": 3,
   "metadata": {},
   "outputs": [],
   "source": [
    "old_list = [1, 2, 3, 4, 5,]\n",
    "doubled_list = []\n",
    "for i in old_list:\n",
    "    if i % 2 == 0:\n",
    "        doubled_list.append(i *2)"
   ]
  },
  {
   "cell_type": "code",
   "execution_count": 4,
   "metadata": {},
   "outputs": [],
   "source": [
    "del doubled_list"
   ]
  },
  {
   "cell_type": "code",
   "execution_count": 5,
   "metadata": {},
   "outputs": [],
   "source": [
    "doubled_list = [i*2 for i in old_list if i%2==0]\n"
   ]
  },
  {
   "cell_type": "code",
   "execution_count": 6,
   "metadata": {},
   "outputs": [
    {
     "data": {
      "text/plain": [
       "[4, 8]"
      ]
     },
     "execution_count": 6,
     "metadata": {},
     "output_type": "execute_result"
    }
   ],
   "source": [
    "doubled_list"
   ]
  },
  {
   "cell_type": "code",
   "execution_count": 2,
   "metadata": {},
   "outputs": [],
   "source": [
    "old_list = [1, 2, 3, 4, 5,]\n",
    "doubled_list = []\n",
    "for i in old_list:\n",
    "    if i % 2 == 0:\n",
    "        doubled_list.append(i *2)\n",
    "    else:\n",
    "        doubled_list.append(i**2)"
   ]
  },
  {
   "cell_type": "code",
   "execution_count": 8,
   "metadata": {},
   "outputs": [
    {
     "data": {
      "text/plain": [
       "[1, 4, 9, 8, 25]"
      ]
     },
     "execution_count": 8,
     "metadata": {},
     "output_type": "execute_result"
    }
   ],
   "source": [
    "doubled_list"
   ]
  },
  {
   "cell_type": "code",
   "execution_count": 5,
   "metadata": {},
   "outputs": [],
   "source": [
    "doubled_list=[i*2 if i%2==0 else i**2 for i in old_list ]"
   ]
  },
  {
   "cell_type": "code",
   "execution_count": 6,
   "metadata": {},
   "outputs": [
    {
     "data": {
      "text/plain": [
       "[1, 4, 9, 8, 25]"
      ]
     },
     "execution_count": 6,
     "metadata": {},
     "output_type": "execute_result"
    }
   ],
   "source": [
    "doubled_list"
   ]
  },
  {
   "cell_type": "code",
   "execution_count": null,
   "metadata": {},
   "outputs": [],
   "source": []
  },
  {
   "cell_type": "code",
   "execution_count": null,
   "metadata": {},
   "outputs": [],
   "source": []
  },
  {
   "cell_type": "code",
   "execution_count": null,
   "metadata": {},
   "outputs": [],
   "source": []
  },
  {
   "cell_type": "code",
   "execution_count": null,
   "metadata": {},
   "outputs": [],
   "source": []
  },
  {
   "cell_type": "code",
   "execution_count": 11,
   "metadata": {},
   "outputs": [],
   "source": [
    "#숙제 1:argment를 이용해 calculator() develop\n",
    "#숙제 2:1~100까지 fizzbuzz를 list comprehension으로 완성하기 "
   ]
  },
  {
   "cell_type": "code",
   "execution_count": null,
   "metadata": {},
   "outputs": [],
   "source": []
  }
 ],
 "metadata": {
  "kernelspec": {
   "display_name": "Python 3",
   "language": "python",
   "name": "python3"
  },
  "language_info": {
   "codemirror_mode": {
    "name": "ipython",
    "version": 3
   },
   "file_extension": ".py",
   "mimetype": "text/x-python",
   "name": "python",
   "nbconvert_exporter": "python",
   "pygments_lexer": "ipython3",
   "version": "3.7.0"
  }
 },
 "nbformat": 4,
 "nbformat_minor": 2
}
